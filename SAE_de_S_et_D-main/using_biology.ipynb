{
 "cells": [
  {
   "cell_type": "markdown",
   "id": "a023b3ed",
   "metadata": {},
   "source": [
    "# Notebook de présentation de la SAE S01.02 Sofiene.H et Darius.B"
   ]
  },
  {
   "cell_type": "markdown",
   "id": "45c873f0",
   "metadata": {},
   "source": [
    "### Premierement, jeffectue tout les imports dont j'ai besoin"
   ]
  },
  {
   "cell_type": "code",
   "execution_count": null,
   "id": "4cb31317",
   "metadata": {},
   "outputs": [],
   "source": [
    "import biology as by\n",
    "import json\n",
    "import itertools # cest importe va servir pour le .product() dans\n",
    "                 # la fonction codons_stop()"
   ]
  },
  {
   "cell_type": "markdown",
   "id": "7991d3b6",
   "metadata": {},
   "source": [
    "Question 1 : Il fallait créer une fonction qui va retournez True si le caractère en parametre correspondait a l'un des caractère du tableau A, T, G, C"
   ]
  },
  {
   "cell_type": "code",
   "execution_count": null,
   "id": "3cff0ff3",
   "metadata": {},
   "outputs": [],
   "source": [
    "by.est_adn()"
   ]
  }
 ],
 "metadata": {
  "kernelspec": {
   "display_name": "Python 3 (ipykernel)",
   "language": "python",
   "name": "python3"
  },
  "language_info": {
   "codemirror_mode": {
    "name": "ipython",
    "version": 3
   },
   "file_extension": ".py",
   "mimetype": "text/x-python",
   "name": "python",
   "nbconvert_exporter": "python",
   "pygments_lexer": "ipython3",
   "version": "3.9.7"
  }
 },
 "nbformat": 4,
 "nbformat_minor": 5
}
