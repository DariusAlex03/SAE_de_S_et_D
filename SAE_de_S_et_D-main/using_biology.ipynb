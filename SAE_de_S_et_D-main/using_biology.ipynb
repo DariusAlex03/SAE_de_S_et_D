{
 "cells": [
  {
   "cell_type": "markdown",
   "id": "a023b3ed",
   "metadata": {},
   "source": [
    "# Notebook de présentation de la SAE S01.02 Sofiene.H et Darius.B"
   ]
  },
  {
   "cell_type": "markdown",
   "id": "f291cd73",
   "metadata": {},
   "source": [
    "### Premierement, jeffectue tout les imports dont j'ai besoin"
   ]
  },
  {
   "cell_type": "code",
   "execution_count": 1,
   "id": "788b5645",
   "metadata": {},
   "outputs": [],
   "source": [
    "import biology as by\n",
    "import json\n",
    "import itertools # cest importe va servir pour le .product() dans\n",
    "                 # la fonction codons_stop()\n"
   ]
  },
  {
   "cell_type": "markdown",
   "id": "832a81e0",
   "metadata": {},
   "source": [
    "Question 1 : Il fallait créer une fonction qui va retournez True si le caractère en parametre correspondait a l'un des caractère du tableau A, T, G, C"
   ]
  },
  {
   "cell_type": "code",
   "execution_count": 3,
   "id": "fd91b845",
   "metadata": {},
   "outputs": [
    {
     "data": {
      "text/plain": [
       "False"
      ]
     },
     "execution_count": 3,
     "metadata": {},
     "output_type": "execute_result"
    }
   ],
   "source": [
    "by.est_base(\"s\")\n",
    "    "
   ]
  }
 ],
 "metadata": {
  "kernelspec": {
   "display_name": "Python 3 (ipykernel)",
   "language": "python",
   "name": "python3"
  },
  "language_info": {
   "codemirror_mode": {
    "name": "ipython",
    "version": 3
   },
   "file_extension": ".py",
   "mimetype": "text/x-python",
   "name": "python",
   "nbconvert_exporter": "python",
   "pygments_lexer": "ipython3",
   "version": "3.9.7"
  }
 },
 "nbformat": 4,
 "nbformat_minor": 5
}
