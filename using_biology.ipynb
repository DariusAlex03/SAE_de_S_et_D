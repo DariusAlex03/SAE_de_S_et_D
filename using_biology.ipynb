{
 "cells": [
  {
   "cell_type": "markdown",
   "id": "a023b3ed",
   "metadata": {},
   "source": [
    "# Notebook de présentation de la SAE S01.02"
   ]
  },
  {
   "cell_type": "markdown",
   "id": "47840237",
   "metadata": {},
   "source": [
    "## Binôme \n",
    "\n",
    "* John Doe (remplacer par les prénoms et noms des étudiants formant le binôme)\n",
    "* Anonymous "
   ]
  },
  {
   "cell_type": "code",
   "execution_count": 6,
   "id": "4ae55d8d",
   "metadata": {},
   "outputs": [
    {
     "data": {
      "text/plain": [
       "True"
      ]
     },
     "execution_count": 6,
     "metadata": {},
     "output_type": "execute_result"
    }
   ],
   "source": [
    "import biology as by\n",
    "\n",
    "by.est_base('A')"
   ]
  },
  {
   "cell_type": "code",
   "execution_count": null,
   "id": "3ab83d17",
   "metadata": {},
   "outputs": [],
   "source": [
    "by.est"
   ]
  }
 ],
 "metadata": {
  "kernelspec": {
   "display_name": "Python 3 (ipykernel)",
   "language": "python",
   "name": "python3"
  },
  "language_info": {
   "codemirror_mode": {
    "name": "ipython",
    "version": 3
   },
   "file_extension": ".py",
   "mimetype": "text/x-python",
   "name": "python",
   "nbconvert_exporter": "python",
   "pygments_lexer": "ipython3",
   "version": "3.8.10"
  }
 },
 "nbformat": 4,
 "nbformat_minor": 5
}
